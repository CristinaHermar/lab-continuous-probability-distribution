{
 "cells": [
  {
   "cell_type": "markdown",
   "metadata": {},
   "source": [
    "# Before your start:\n",
    "\n",
    "    Read the README.md file\n",
    "    Comment as much as you can and use the resources (README.md file)\n",
    "    Happy learning!"
   ]
  },
  {
   "cell_type": "markdown",
   "metadata": {},
   "source": [
    "In this exercise, we  will generate random numbers from the continuous disributions we learned in the lesson. There are two ways to generate random numbers:\n",
    "\n",
    "1. Using the numpy library \n",
    "1. using the Scipy library \n",
    "\n",
    "Use either or both of the lbraries in this exercise."
   ]
  },
  {
   "cell_type": "markdown",
   "metadata": {},
   "source": [
    "## Uniform Distribution\n",
    "\n",
    "To generate uniform random numbers between any two given values using scipy, we can either use the following code or the code that we have\n",
    "discussed in class:"
   ]
  },
  {
   "cell_type": "code",
   "execution_count": 6,
   "metadata": {},
   "outputs": [
    {
     "name": "stdout",
     "output_type": "stream",
     "text": [
      "[2.33010536 2.86751389 2.24342531 2.00677965 2.00468419 2.13825171\n",
      " 2.79179867 2.74222351 2.86836977 2.64316922]\n"
     ]
    }
   ],
   "source": [
    "from scipy.stats import uniform\n",
    "x = uniform.rvs(size=10)\n",
    "a = 2\n",
    "b = 3\n",
    "randoms  = a + (b-a)*x\n",
    "print(randoms)"
   ]
  },
  {
   "cell_type": "markdown",
   "metadata": {},
   "source": [
    "**Your task:**\n",
    "\n",
    "1. Based on the code above, write a function that generates uniformly distributed random numbers. There are several requirements for your function:\n",
    "    * It should accept 3 parameters: \n",
    "        * `bottom` - the lower boundary of the generated numbers\n",
    "        * `ceiling` - the upper boundary of the generated numbers\n",
    "        * `count` - how many numbers to generate\n",
    "    * It should return an array of uniformly distributed random numbers\n",
    "\n",
    "1. Call your function with 2 sets of params below:\n",
    "    * bottom=10, ceiling=15, count=100\n",
    "    * bottom=10, ceiling=60, count=1,000\n",
    "\n",
    "1. Plot the uniform distributions generated above using histograms, where x axis is the value and y axis is the count. Let the histogram's number of bins be 10.\n",
    "\n",
    "Your output should look like below:\n",
    "\n",
    "![uniform distribution](ud.png)"
   ]
  },
  {
   "cell_type": "code",
   "execution_count": 10,
   "metadata": {},
   "outputs": [],
   "source": [
    "# your code here\n",
    "#uniform() to generate random numbers in a range \n",
    "#rvs Random variates\n",
    "\n",
    "def fun_unif_dist (bottom, ceiling, count):\n",
    "    x = uniform.rvs(size = count)\n",
    "    a = bottom\n",
    "    b = ceiling\n",
    "    randoms  = a + (b-a)*x\n",
    "    return randoms"
   ]
  },
  {
   "cell_type": "markdown",
   "metadata": {},
   "source": [
    "How are the two distributions different?"
   ]
  },
  {
   "cell_type": "code",
   "execution_count": 16,
   "metadata": {},
   "outputs": [],
   "source": [
    "# your answer below\n",
    "dis1 = fun_unif_dist (10, 15, 100)\n",
    "dis2 = fun_unif_dist (10, 60, 1000)"
   ]
  },
  {
   "cell_type": "code",
   "execution_count": 19,
   "metadata": {},
   "outputs": [
    {
     "data": {
      "text/plain": [
       "array([12.06790604, 10.54709585, 13.81402478, 13.4515192 , 13.76794495,\n",
       "       12.11295826, 11.48866754, 11.663069  , 11.3706291 , 13.60235431,\n",
       "       11.20783969, 10.43775978, 11.71557502, 13.79115265, 12.89062294,\n",
       "       11.82867695, 10.04426377, 11.59105514, 14.08103782, 14.95324261,\n",
       "       14.9386604 , 13.26009207, 10.66581855, 14.21652365, 12.5997533 ,\n",
       "       10.01646826, 13.20106506, 11.90075925, 14.14998685, 13.60758984,\n",
       "       13.03869112, 12.94771988, 12.63638287, 11.37237965, 11.88434372,\n",
       "       13.6754564 , 11.23460486, 14.22789981, 11.35688593, 14.54442335,\n",
       "       10.11361825, 11.09609453, 13.34264973, 14.50237006, 12.13442527,\n",
       "       12.49306379, 11.17745576, 14.43321532, 10.17445057, 10.5808388 ,\n",
       "       12.10845712, 12.02730107, 11.75847466, 13.28476572, 14.42307239,\n",
       "       12.55757784, 14.58966788, 14.075521  , 13.18954909, 11.73096304,\n",
       "       12.40842572, 14.96348001, 10.72514338, 11.85327879, 11.32595328,\n",
       "       11.37429968, 12.68080381, 14.02898141, 11.48912089, 11.92454782,\n",
       "       13.43660035, 13.58869751, 12.12311814, 13.43721996, 12.97444971,\n",
       "       12.66783095, 14.80997631, 13.5425821 , 12.40071286, 14.54567606,\n",
       "       10.24044679, 10.35476883, 11.39471117, 14.08169924, 14.49867656,\n",
       "       10.40409383, 11.87407034, 10.06617711, 10.26092373, 13.67136136,\n",
       "       11.87523749, 10.69649754, 12.40396642, 14.69604629, 10.87634039,\n",
       "       12.57926795, 13.41057589, 12.48367178, 12.91095454, 10.59578161])"
      ]
     },
     "execution_count": 19,
     "metadata": {},
     "output_type": "execute_result"
    }
   ],
   "source": [
    "dis1"
   ]
  },
  {
   "cell_type": "code",
   "execution_count": 20,
   "metadata": {},
   "outputs": [
    {
     "data": {
      "text/plain": [
       "array([34.81947062, 13.63065572, 54.6314158 , 50.2914183 , 57.72049112,\n",
       "       34.31035354, 35.35932749, 50.24493149, 11.48274377, 35.31943586,\n",
       "       45.69180564, 51.34765509, 17.3258292 , 27.8243525 , 38.50469902,\n",
       "       14.62916772, 11.5263133 , 41.61516756, 35.38451504, 19.69122366,\n",
       "       26.88787801, 47.79244044, 39.87554295, 47.81090514, 14.59271772,\n",
       "       48.09927509, 35.56605237, 27.72648119, 58.45415618, 19.83690632,\n",
       "       32.57864625, 57.57928551, 25.83391996, 36.6713011 , 14.36283861,\n",
       "       54.72033717, 41.64640826, 59.05749344, 28.72350004, 31.28414042,\n",
       "       56.85920492, 30.32021019, 12.28613258, 22.92760108, 58.74536757,\n",
       "       22.76307288, 58.6160703 , 58.32331583, 43.4862737 , 56.06239499,\n",
       "       12.09359053, 31.33641293, 45.38138021, 23.71000784, 19.37233769,\n",
       "       18.22592581, 16.34560841, 11.98070796, 32.81330093, 27.116939  ,\n",
       "       12.99651369, 52.26880558, 20.26902459, 30.6380847 , 55.90724307,\n",
       "       32.77374457, 39.72811343, 58.26346773, 44.26444798, 44.47911268,\n",
       "       13.0585165 , 18.35757467, 14.0918157 , 42.48023328, 51.82120352,\n",
       "       13.8760907 , 53.00947182, 45.33589165, 39.6908204 , 30.6222515 ,\n",
       "       34.70373723, 52.04678672, 20.61900384, 32.59018977, 45.05205307,\n",
       "       59.84876257, 46.97527791, 29.8626824 , 31.10422908, 38.13468184,\n",
       "       28.11623029, 52.36433944, 33.51019272, 42.30766789, 13.30425551,\n",
       "       26.98448367, 19.43353145, 20.57188557, 28.73694123, 21.72181922,\n",
       "       29.89470507, 23.2208082 , 14.78697016, 13.89871334, 11.05454558,\n",
       "       23.0527671 , 17.37581561, 42.27860066, 48.30512923, 55.18482217,\n",
       "       49.50208094, 30.04035196, 56.30252639, 33.11255736, 38.88911446,\n",
       "       51.33425291, 28.11654076, 34.06243979, 23.37047588, 36.37934951,\n",
       "       35.13608124, 39.62167778, 42.37053207, 24.04300178, 14.53294198,\n",
       "       51.78703932, 20.48034301, 37.05243013, 18.98743445, 55.61550933,\n",
       "       20.28263773, 44.50879366, 28.33348375, 48.29129699, 33.46512017,\n",
       "       52.84531854, 45.18567675, 33.21177317, 11.46968259, 45.79040156,\n",
       "       14.64969872, 55.82077704, 49.54702936, 57.26729524, 34.70212287,\n",
       "       49.8122343 , 54.60218485, 50.53615908, 57.42188695, 51.21799232,\n",
       "       41.03432542, 12.13457846, 14.41295592, 25.76953485, 21.24539754,\n",
       "       13.61533924, 47.8472269 , 29.89519777, 22.1886789 , 26.4108221 ,\n",
       "       26.13305656, 35.40421658, 31.65197051, 48.61042607, 12.4942717 ,\n",
       "       30.44328479, 10.31558588, 35.47447642, 34.04200484, 15.60668473,\n",
       "       28.39905903, 45.36298965, 21.37315912, 55.53294228, 29.60347715,\n",
       "       47.43173234, 58.70408027, 45.39613949, 56.85232683, 31.95543112,\n",
       "       56.07942072, 45.9559809 , 15.3093795 , 58.82255527, 11.39065864,\n",
       "       57.31658773, 46.74896605, 54.44200158, 57.85327068, 29.14219861,\n",
       "       26.17414714, 23.31081319, 38.38432884, 24.90203725, 42.00635875,\n",
       "       41.98973265, 16.41890468, 23.0999595 , 49.76640943, 25.06243672,\n",
       "       31.31616107, 25.44304324, 55.63431212, 28.47824414, 52.0471457 ,\n",
       "       28.99824192, 31.06465767, 49.40411431, 12.00676468, 34.57983754,\n",
       "       15.08851453, 11.83535721, 28.21920301, 51.00564922, 33.67774093,\n",
       "       25.29904064, 58.92475738, 11.91091243, 48.70019353, 51.08870344,\n",
       "       33.3483519 , 14.87685151, 57.34538976, 59.19892344, 51.57882358,\n",
       "       17.35909188, 17.09796011, 33.91560415, 59.98713477, 45.63939589,\n",
       "       48.17000982, 53.38341755, 33.0862856 , 53.6232363 , 14.58034595,\n",
       "       46.13729777, 23.47213097, 38.65742189, 23.24527291, 35.44792023,\n",
       "       43.69808304, 33.19516723, 14.80219432, 38.81290278, 56.52788883,\n",
       "       55.57684253, 46.00135397, 51.69508837, 36.87721103, 49.87327264,\n",
       "       36.79496992, 34.54139768, 58.61386987, 53.72327595, 14.53330721,\n",
       "       20.42861201, 41.60424874, 16.50088456, 49.97512253, 17.30714599,\n",
       "       52.91721636, 39.26962876, 18.80322948, 53.93836905, 30.65964814,\n",
       "       23.05998418, 41.02686351, 41.18094772, 55.36473644, 37.69361342,\n",
       "       43.93115288, 16.8727427 , 53.34839949, 55.25099332, 34.07858403,\n",
       "       55.68771006, 12.63534453, 39.43500175, 36.22608082, 25.12198947,\n",
       "       21.68629224, 31.02670002, 24.81778949, 49.07320352, 34.7381195 ,\n",
       "       26.65617497, 42.05645172, 51.3596275 , 27.89202899, 46.26105061,\n",
       "       35.14128687, 18.21998653, 55.39435423, 52.31047912, 27.95733347,\n",
       "       52.75633257, 12.04667852, 22.5303466 , 50.30946006, 25.83071035,\n",
       "       54.41723715, 36.83041659, 31.8799842 , 48.11782991, 32.45072748,\n",
       "       41.13511108, 39.08972729, 28.4280619 , 26.71072089, 44.00328616,\n",
       "       10.74572454, 51.91923938, 48.26815998, 57.1348411 , 27.4607465 ,\n",
       "       41.82777824, 15.12454816, 19.29959895, 23.18959414, 32.92848004,\n",
       "       33.57803905, 39.67570355, 28.2697904 , 12.32277556, 53.01182361,\n",
       "       34.53976886, 41.34073001, 26.42217099, 38.96706305, 51.39562633,\n",
       "       41.26834199, 59.73369206, 24.77524513, 37.71410501, 14.11881039,\n",
       "       33.71856491, 34.80173866, 27.76201689, 45.97109017, 17.25527113,\n",
       "       34.43583393, 29.24802676, 40.82405274, 23.31499404, 11.58577268,\n",
       "       47.6878321 , 15.67006482, 49.52316342, 23.75179842, 40.90045223,\n",
       "       56.21294229, 35.02453951, 49.76994872, 21.5222241 , 13.0502214 ,\n",
       "       58.35715593, 33.01691112, 35.95406089, 33.46719331, 31.18171248,\n",
       "       30.06172562, 28.05127801, 32.32569766, 24.05295364, 23.39401746,\n",
       "       52.10478489, 41.36739746, 34.61379558, 11.59108676, 27.84898041,\n",
       "       54.96325572, 29.54915879, 19.90265733, 13.80468589, 21.84624926,\n",
       "       18.29664054, 13.16993225, 30.90661277, 12.58555268, 41.55186929,\n",
       "       15.85060859, 41.27629952, 22.49993661, 51.56995419, 56.02122902,\n",
       "       44.24692862, 49.31464962, 23.15634468, 53.91561937, 36.60490382,\n",
       "       47.45555146, 21.96297053, 40.76577986, 37.45637076, 14.99170892,\n",
       "       14.90536536, 16.31962184, 10.36370696, 49.01538603, 11.9023316 ,\n",
       "       30.13347094, 14.50143047, 11.08099656, 26.91905389, 31.94144826,\n",
       "       34.97287734, 10.51630062, 53.19047356, 12.12965872, 38.85482467,\n",
       "       30.5399761 , 18.0071022 , 14.13531377, 33.316839  , 30.80196294,\n",
       "       35.78013731, 40.8938351 , 16.41283385, 14.39211683, 14.41432246,\n",
       "       48.88201566, 43.45382636, 50.51253384, 31.51408823, 48.34269731,\n",
       "       24.46582117, 22.0636981 , 28.33726921, 42.16547933, 36.81320861,\n",
       "       56.93433479, 47.92706465, 55.2298302 , 15.87087394, 18.99151865,\n",
       "       41.33758421, 16.66687195, 28.54649616, 28.78202745, 13.93215476,\n",
       "       23.54653046, 50.22537583, 35.67107626, 19.24531856, 43.45318515,\n",
       "       36.41626587, 30.28892833, 38.38388864, 15.76635749, 51.38440989,\n",
       "       32.35056804, 30.19564779, 48.20018877, 50.71510865, 45.06966522,\n",
       "       10.34549249, 19.29728487, 13.03018685, 56.73052297, 30.71786686,\n",
       "       29.7234075 , 51.50958443, 53.6760553 , 44.34582732, 10.69037255,\n",
       "       46.59549348, 28.90480463, 26.90970742, 52.96968573, 22.74382143,\n",
       "       50.94274178, 37.15981592, 25.04544692, 47.51470048, 31.685629  ,\n",
       "       26.50407937, 24.72276996, 57.66929163, 17.59241301, 39.97705464,\n",
       "       48.50484905, 37.22035736, 21.84447922, 51.16751475, 38.34272839,\n",
       "       13.14065243, 44.37372376, 57.06991552, 53.52493054, 54.85332932,\n",
       "       53.07463565, 55.06140707, 46.04223826, 32.18040332, 16.2403385 ,\n",
       "       24.53573381, 42.72511793, 16.36747377, 20.43523683, 11.13902762,\n",
       "       33.41187097, 52.46307593, 39.8528282 , 32.50088564, 21.29331907,\n",
       "       21.07114986, 24.1535977 , 23.60975276, 46.99700156, 51.98081624,\n",
       "       52.98316469, 51.30900381, 33.8021058 , 35.43955157, 33.07434366,\n",
       "       40.36708735, 41.10632882, 39.71401843, 28.85579541, 52.94346622,\n",
       "       28.0066549 , 17.51802099, 13.96742475, 30.08863433, 50.12892596,\n",
       "       23.90918738, 24.1695349 , 41.2857198 , 27.55592941, 34.80149661,\n",
       "       54.65379652, 16.22999416, 47.77373423, 52.71308067, 40.31052397,\n",
       "       44.13059872, 23.63230998, 49.5864427 , 26.90379506, 30.74295527,\n",
       "       59.17305303, 44.46779253, 40.3419343 , 51.72013148, 43.28374587,\n",
       "       16.43312209, 58.07206477, 21.81098238, 48.15262001, 31.16084066,\n",
       "       20.45053641, 43.17815297, 20.67682106, 35.7480977 , 23.28032478,\n",
       "       37.0185664 , 24.8232977 , 45.86811287, 29.87646031, 28.80237239,\n",
       "       55.18627661, 32.4076282 , 14.80963995, 14.52566152, 24.60129985,\n",
       "       11.13278842, 58.95425164, 18.0650345 , 56.46129514, 43.84798736,\n",
       "       20.48640021, 14.17552918, 54.25277059, 21.61357059, 24.5302975 ,\n",
       "       26.56316387, 53.26368164, 36.64577602, 43.95485044, 37.22603841,\n",
       "       28.47214682, 50.95883003, 50.58280606, 40.73024128, 20.09554727,\n",
       "       16.05087734, 17.57300006, 53.43892977, 20.63344503, 27.84269058,\n",
       "       33.01127042, 24.89820283, 42.25181635, 46.19535022, 29.58975189,\n",
       "       32.09885174, 56.20665418, 43.82287291, 33.04421733, 52.76465976,\n",
       "       38.83817037, 17.18552856, 17.41812024, 49.00674687, 51.64816339,\n",
       "       59.55309807, 52.51805739, 56.85871925, 50.42423659, 11.58329876,\n",
       "       43.62335128, 50.3112645 , 49.28579656, 27.25616994, 44.3658266 ,\n",
       "       46.14601992, 51.20582936, 59.19356087, 12.39572586, 36.03672162,\n",
       "       52.46455849, 27.85538397, 48.72850427, 11.05252066, 24.43965751,\n",
       "       54.76889374, 14.42509202, 53.06612987, 15.51855706, 24.73829277,\n",
       "       51.34419312, 42.19928498, 50.158624  , 29.98329231, 35.85241605,\n",
       "       48.1628658 , 12.00737683, 48.35274888, 53.97033943, 47.67901021,\n",
       "       43.74030157, 27.46422123, 45.92495373, 15.40529083, 25.21243887,\n",
       "       58.74262511, 41.31995484, 41.39291523, 35.33710282, 12.47257424,\n",
       "       24.87253584, 16.40855167, 28.72839849, 37.6001632 , 44.17122445,\n",
       "       59.86787896, 36.59509894, 27.64807949, 18.20697864, 41.50622718,\n",
       "       17.87534817, 16.34125821, 53.72035011, 52.97773378, 50.96201399,\n",
       "       12.78221225, 22.64928761, 43.04491091, 24.81837045, 21.51007143,\n",
       "       42.54043859, 57.88456561, 37.95829315, 28.98045895, 48.16172099,\n",
       "       31.59751625, 21.19717858, 40.7888861 , 11.06599574, 30.6282766 ,\n",
       "       20.29464772, 56.85783089, 37.31897915, 10.85895258, 39.93330188,\n",
       "       21.17353861, 56.51971274, 25.7243044 , 22.03651999, 29.97889957,\n",
       "       42.68957529, 25.79493194, 52.27288295, 36.30532827, 21.42346178,\n",
       "       38.26665437, 35.08196995, 53.82575752, 41.82919871, 24.62483662,\n",
       "       33.72352242, 19.90166486, 36.25780912, 16.0203941 , 21.69781404,\n",
       "       26.88112183, 22.28160051, 47.35448501, 44.36256009, 11.650884  ,\n",
       "       36.58712   , 50.52640234, 33.11529145, 19.65459614, 47.48420804,\n",
       "       24.87846774, 45.43811127, 57.06916333, 13.10435474, 19.27282623,\n",
       "       57.22120692, 21.93273107, 18.6386674 , 28.87169457, 50.58433969,\n",
       "       24.7353759 , 34.34798533, 53.31436364, 27.12719569, 30.20639038,\n",
       "       44.7951266 , 58.24337589, 16.70036692, 44.96228831, 18.64775711,\n",
       "       11.19872472, 32.61867272, 22.89748427, 56.17935844, 43.86094187,\n",
       "       35.79473268, 53.03419898, 48.3135124 , 59.26827644, 21.06362069,\n",
       "       23.41765816, 10.09784206, 44.53293304, 48.34680907, 57.15320488,\n",
       "       55.31665586, 37.4534684 , 29.34057858, 29.24869608, 29.77054872,\n",
       "       23.39394758, 12.95108144, 23.81294122, 28.56582011, 50.89124513,\n",
       "       49.16240347, 37.20989793, 28.43651556, 47.10843507, 53.54284415,\n",
       "       38.59403307, 41.20561019, 18.90064888, 20.24732858, 39.01856132,\n",
       "       53.07332495, 54.61522059, 56.46527513, 51.26595111, 28.18608915,\n",
       "       49.33140758, 43.60656271, 20.85400839, 20.84595426, 41.09431349,\n",
       "       54.92519641, 38.09091292, 46.48754267, 29.55168044, 42.20896596,\n",
       "       57.67508828, 35.08323048, 40.86285584, 14.73129294, 26.45060076,\n",
       "       16.42150148, 10.00449389, 47.69787663, 19.61356976, 41.16728795,\n",
       "       15.38603461, 15.51675138, 14.55017929, 44.85520086, 21.76343874,\n",
       "       14.93383676, 49.74308735, 34.05007801, 25.75462188, 56.79445549,\n",
       "       35.41580921, 24.76287019, 49.10999599, 10.64204869, 13.86313829,\n",
       "       13.7323879 , 24.84085178, 57.23813199, 15.58177186, 11.66709039,\n",
       "       37.69748866, 13.86380473, 49.08131131, 19.19315312, 58.59314917,\n",
       "       12.48975541, 19.5959638 , 38.3029478 , 36.11602671, 29.84444962,\n",
       "       50.52588506, 19.55116106, 34.79908619, 57.23875481, 39.97248794,\n",
       "       47.56284488, 52.13812078, 29.03330266, 54.94740575, 18.82334968,\n",
       "       40.88154185, 27.74404202, 19.24169248, 46.50795614, 10.86400513,\n",
       "       25.88077415, 10.57284924, 31.8209164 , 13.2985599 , 53.47933229,\n",
       "       51.8269814 , 16.60755689, 34.98234044, 24.14878072, 32.04363722,\n",
       "       29.3110857 , 11.24706589, 45.72460008, 22.67306531, 19.62196601,\n",
       "       13.42822683, 39.00552239, 42.35172162, 12.91805129, 22.02415679,\n",
       "       40.47492954, 25.21172952, 37.65771373, 50.90122599, 26.60633876,\n",
       "       16.28655891, 38.15364719, 34.06492879, 40.26715419, 16.63001586,\n",
       "       41.51080599, 57.64486505, 13.03871929, 51.30830212, 59.57406171,\n",
       "       48.43601501, 58.83030598, 32.27863788, 16.66292541, 36.72273782,\n",
       "       50.41308174, 57.64342906, 56.04905206, 59.90988172, 51.2132386 ,\n",
       "       40.14070293, 25.19038591, 24.41283524, 13.00671756, 45.67545888,\n",
       "       57.89320852, 10.07539569, 22.99401021, 20.46289659, 36.59600898,\n",
       "       43.00315071, 25.15196702, 59.28523378, 41.59038978, 40.45153008,\n",
       "       26.95446577, 30.42787245, 55.40584153, 49.85404202, 41.66892526,\n",
       "       16.4821833 , 48.06629362, 55.29639048, 27.90194637, 11.86154501,\n",
       "       43.44119118, 29.5297473 , 41.05668975, 29.42148341, 18.06248302,\n",
       "       19.797567  , 37.70502039, 19.8812825 , 56.81178964, 30.13222611,\n",
       "       20.4822089 , 30.26777492, 29.15430913, 33.0130257 , 12.77242985,\n",
       "       31.79329205, 32.54840065, 35.74842925, 23.78352266, 16.51380091,\n",
       "       26.68078408, 29.82330809, 18.50568612, 30.98158737, 45.47288305,\n",
       "       35.40500346, 44.35828787, 31.46827892, 44.03800549, 59.00357745,\n",
       "       51.88240886, 13.80233688, 39.35107737, 49.14959224, 54.61755707,\n",
       "       26.40534714, 37.45446831, 47.24806613, 58.40946033, 35.78000461,\n",
       "       33.26406897, 27.10752649, 41.79287826, 46.69244858, 58.81738809,\n",
       "       46.43076789, 29.8438509 , 23.57663133, 59.88465917, 18.81580731,\n",
       "       12.87603241, 36.99466837, 59.1569425 , 16.36985939, 26.96021211,\n",
       "       50.23254258, 54.07018554, 34.96336904, 14.10207936, 40.63499833,\n",
       "       26.54930088, 32.26307509, 46.26008448, 33.80502671, 44.71699177,\n",
       "       26.98215406, 21.65752565, 18.25267909, 28.617062  , 14.78800021,\n",
       "       46.90943508, 59.65107171, 32.95987227, 11.29075237, 12.05418613,\n",
       "       15.82857791, 57.03800595, 38.48805846, 20.30905644, 37.87728092,\n",
       "       52.70644339, 40.02695658, 14.94496826, 31.4107032 , 18.86253518,\n",
       "       51.31767408, 20.34004935, 26.58189479, 49.551687  , 50.09326567])"
      ]
     },
     "execution_count": 20,
     "metadata": {},
     "output_type": "execute_result"
    }
   ],
   "source": [
    "dis2"
   ]
  },
  {
   "cell_type": "code",
   "execution_count": 23,
   "metadata": {},
   "outputs": [
    {
     "data": {
      "image/png": "[encoded data removed]",
      "text/plain": [
       "<Figure size 432x288 with 2 Axes>"
      ]
     },
     "metadata": {
      "needs_background": "light"
     },
     "output_type": "display_data"
    }
   ],
   "source": [
    "import matplotlib.pyplot as plt\n",
    "fig, (ax1, ax2) = plt.subplots(1, 2, sharey = True)\n",
    "\n",
    "ax1.hist(dis1, bins = 10)\n",
    "ax2.hist(dis2, bins = 10)\n",
    "\n",
    "plt.show();"
   ]
  },
  {
   "cell_type": "markdown",
   "metadata": {},
   "source": [
    "## Normal Distribution\n",
    "\n",
    "1. In the same way in the Uniform Distribution challenge, write a function that generates normally distributed random numbers.\n",
    "1. Generate 1,000 normally distributed numbers with the average of 10 and standard deviation of 1\n",
    "1. Generate 1,000 normally distributed numbers with the average of 10 and standard deviation of 50\n",
    "2. Plot the distributions of the data generated.\n",
    "\n",
    "Expected output:\n",
    "\n",
    "![normal distribution](nd.png)"
   ]
  },
  {
   "cell_type": "code",
   "execution_count": 29,
   "metadata": {},
   "outputs": [],
   "source": [
    "# your code here\n",
    "import numpy as np\n",
    "def normal_dist(avg, std, count):\n",
    "    return np.random.normal(avg, std, count)"
   ]
  },
  {
   "cell_type": "markdown",
   "metadata": {},
   "source": [
    "How are the two distributions different?"
   ]
  },
  {
   "cell_type": "code",
   "execution_count": 31,
   "metadata": {},
   "outputs": [
    {
     "data": {
      "image/png": "[encoded data removed]",
      "text/plain": [
       "<Figure size 432x288 with 2 Axes>"
      ]
     },
     "metadata": {
      "needs_background": "light"
     },
     "output_type": "display_data"
    }
   ],
   "source": [
    "# your answer below\n",
    "normdis1= normal_dist(10, 1, 1000)\n",
    "normdis2= normal_dist(10, 50, 1000)\n",
    "\n",
    "fig, (ax1, ax2) = plt.subplots(1, 2, sharey = True)\n",
    "\n",
    "ax1.hist(normdis1, bins = 10)\n",
    "ax2.hist(normdis2, bins = 10)\n",
    "\n",
    "plt.show();"
   ]
  },
  {
   "cell_type": "markdown",
   "metadata": {},
   "source": [
    "## Normal Distribution of Real Data\n",
    "\n",
    "In this challenge we are going to take a look the real data. We will use vehicles.csv file for this exercise"
   ]
  },
  {
   "cell_type": "markdown",
   "metadata": {},
   "source": [
    "First import vehicles.csv.\n",
    "Then plot the histograms for the following variables:\n",
    "\n",
    "1. Fuel Barrels/Year"
   ]
  },
  {
   "cell_type": "code",
   "execution_count": 35,
   "metadata": {},
   "outputs": [
    {
     "data": {
      "text/html": [
       "<div>\n",
       "<style scoped>\n",
       "    .dataframe tbody tr th:only-of-type {\n",
       "        vertical-align: middle;\n",
       "    }\n",
       "\n",
       "    .dataframe tbody tr th {\n",
       "        vertical-align: top;\n",
       "    }\n",
       "\n",
       "    .dataframe thead th {\n",
       "        text-align: right;\n",
       "    }\n",
       "</style>\n",
       "<table border=\"1\" class=\"dataframe\">\n",
       "  <thead>\n",
       "    <tr style=\"text-align: right;\">\n",
       "      <th></th>\n",
       "      <th>Make</th>\n",
       "      <th>Model</th>\n",
       "      <th>Year</th>\n",
       "      <th>Engine Displacement</th>\n",
       "      <th>Cylinders</th>\n",
       "      <th>Transmission</th>\n",
       "      <th>Drivetrain</th>\n",
       "      <th>Vehicle Class</th>\n",
       "      <th>Fuel Type</th>\n",
       "      <th>Fuel Barrels/Year</th>\n",
       "      <th>City MPG</th>\n",
       "      <th>Highway MPG</th>\n",
       "      <th>Combined MPG</th>\n",
       "      <th>CO2 Emission Grams/Mile</th>\n",
       "      <th>Fuel Cost/Year</th>\n",
       "    </tr>\n",
       "  </thead>\n",
       "  <tbody>\n",
       "    <tr>\n",
       "      <th>0</th>\n",
       "      <td>AM General</td>\n",
       "      <td>DJ Po Vehicle 2WD</td>\n",
       "      <td>1984</td>\n",
       "      <td>2.5</td>\n",
       "      <td>4.0</td>\n",
       "      <td>Automatic 3-spd</td>\n",
       "      <td>2-Wheel Drive</td>\n",
       "      <td>Special Purpose Vehicle 2WD</td>\n",
       "      <td>Regular</td>\n",
       "      <td>19.388824</td>\n",
       "      <td>18</td>\n",
       "      <td>17</td>\n",
       "      <td>17</td>\n",
       "      <td>522.764706</td>\n",
       "      <td>1950</td>\n",
       "    </tr>\n",
       "    <tr>\n",
       "      <th>1</th>\n",
       "      <td>AM General</td>\n",
       "      <td>FJ8c Post Office</td>\n",
       "      <td>1984</td>\n",
       "      <td>4.2</td>\n",
       "      <td>6.0</td>\n",
       "      <td>Automatic 3-spd</td>\n",
       "      <td>2-Wheel Drive</td>\n",
       "      <td>Special Purpose Vehicle 2WD</td>\n",
       "      <td>Regular</td>\n",
       "      <td>25.354615</td>\n",
       "      <td>13</td>\n",
       "      <td>13</td>\n",
       "      <td>13</td>\n",
       "      <td>683.615385</td>\n",
       "      <td>2550</td>\n",
       "    </tr>\n",
       "  </tbody>\n",
       "</table>\n",
       "</div>"
      ],
      "text/plain": [
       "         Make              Model  Year  Engine Displacement  Cylinders  \\\n",
       "0  AM General  DJ Po Vehicle 2WD  1984                  2.5        4.0   \n",
       "1  AM General   FJ8c Post Office  1984                  4.2        6.0   \n",
       "\n",
       "      Transmission     Drivetrain                Vehicle Class Fuel Type  \\\n",
       "0  Automatic 3-spd  2-Wheel Drive  Special Purpose Vehicle 2WD   Regular   \n",
       "1  Automatic 3-spd  2-Wheel Drive  Special Purpose Vehicle 2WD   Regular   \n",
       "\n",
       "   Fuel Barrels/Year  City MPG  Highway MPG  Combined MPG  \\\n",
       "0          19.388824        18           17            17   \n",
       "1          25.354615        13           13            13   \n",
       "\n",
       "   CO2 Emission Grams/Mile  Fuel Cost/Year  \n",
       "0               522.764706            1950  \n",
       "1               683.615385            2550  "
      ]
     },
     "execution_count": 35,
     "metadata": {},
     "output_type": "execute_result"
    }
   ],
   "source": [
    "# your code here\n",
    "import pandas as pd\n",
    "vehicles = pd.read_csv('C:/Users/MaCris/Documents/Ironhack/Labs/lab-continuous-probability-distribution/your-code/vehicles.csv')\n",
    "vehicles.head(2)"
   ]
  },
  {
   "cell_type": "code",
   "execution_count": 37,
   "metadata": {},
   "outputs": [
    {
     "data": {
      "image/png": "[encoded data removed]",
      "text/plain": [
       "<Figure size 432x288 with 1 Axes>"
      ]
     },
     "metadata": {
      "needs_background": "light"
     },
     "output_type": "display_data"
    }
   ],
   "source": [
    "plt.hist(vehicles['Fuel Barrels/Year'])\n",
    "\n",
    "plt.show()"
   ]
  },
  {
   "cell_type": "markdown",
   "metadata": {},
   "source": [
    "2. CO2 Emission Grams/Mile "
   ]
  },
  {
   "cell_type": "code",
   "execution_count": 38,
   "metadata": {},
   "outputs": [
    {
     "data": {
      "image/png": "[encoded data removed]",
      "text/plain": [
       "<Figure size 432x288 with 1 Axes>"
      ]
     },
     "metadata": {
      "needs_background": "light"
     },
     "output_type": "display_data"
    }
   ],
   "source": [
    "# your code here\n",
    "plt.hist(vehicles['CO2 Emission Grams/Mile'])\n",
    "\n",
    "plt.show()"
   ]
  },
  {
   "cell_type": "markdown",
   "metadata": {},
   "source": [
    "3. Combined MPG"
   ]
  },
  {
   "cell_type": "code",
   "execution_count": 39,
   "metadata": {},
   "outputs": [
    {
     "data": {
      "image/png": "[encoded data removed]",
      "text/plain": [
       "<Figure size 432x288 with 1 Axes>"
      ]
     },
     "metadata": {
      "needs_background": "light"
     },
     "output_type": "display_data"
    }
   ],
   "source": [
    "# your code here\n",
    "plt.hist(vehicles['Combined MPG'])\n",
    "\n",
    "plt.show()"
   ]
  },
  {
   "cell_type": "markdown",
   "metadata": {},
   "source": [
    "Which one(s) of the variables are nearly normally distributed? How do you know?"
   ]
  },
  {
   "cell_type": "code",
   "execution_count": null,
   "metadata": {},
   "outputs": [],
   "source": [
    "# your answer here"
   ]
  },
  {
   "cell_type": "markdown",
   "metadata": {},
   "source": [
    "## Exponential Distribution"
   ]
  },
  {
   "cell_type": "markdown",
   "metadata": {},
   "source": [
    "1. Using `numpy.random.exponential`, create a function that returns a list of numbers exponentially distributed with the mean of 10. \n",
    "\n",
    "1. Use the function to generate two number sequences with the size of 1 and 100.\n",
    "\n",
    "1. Plot the distributions as histograms with the nubmer of bins as 100.\n",
    "\n",
    "Your output should look like below:\n",
    "\n",
    "![exponential distribution](ed.png)"
   ]
  },
  {
   "cell_type": "code",
   "execution_count": 44,
   "metadata": {},
   "outputs": [
    {
     "data": {
      "image/png": "[encoded data removed]",
      "text/plain": [
       "<Figure size 432x288 with 2 Axes>"
      ]
     },
     "metadata": {
      "needs_background": "light"
     },
     "output_type": "display_data"
    }
   ],
   "source": [
    "# your code here\n",
    "\n",
    "def exp_dis(sc,co):\n",
    "    rand=np.random.exponential(sc, co)\n",
    "    return rand\n",
    "\n",
    "expdis1=exp_dis(1,10)\n",
    "expdis2=exp_dis(1,100)\n",
    "\n",
    "fig, (ax1, ax2) = plt.subplots(1, 2, sharey = True)\n",
    "\n",
    "ax1.hist(expdis1, bins = 10)\n",
    "ax2.hist(expdis2, bins = 10)\n",
    "\n",
    "plt.show();"
   ]
  },
  {
   "cell_type": "markdown",
   "metadata": {},
   "source": [
    "How are the two distributions different?"
   ]
  },
  {
   "cell_type": "code",
   "execution_count": null,
   "metadata": {},
   "outputs": [],
   "source": [
    "# your answer here"
   ]
  },
  {
   "cell_type": "markdown",
   "metadata": {},
   "source": [
    "## Exponential Distribution of Real Data\n",
    "\n",
    "Suppose that the amount of time one spends in a bank is exponentially distributed with mean as 10 minutes (i.e. λ = 1/10). What is the probability that a customer will spend less than fifteen minutes in the bank? \n",
    "\n",
    "Write a code in python to solve this problem"
   ]
  },
  {
   "cell_type": "code",
   "execution_count": null,
   "metadata": {},
   "outputs": [],
   "source": [
    "# your answer here\n",
    "# Hint: This is same as saying P(x<15)"
   ]
  },
  {
   "cell_type": "markdown",
   "metadata": {},
   "source": [
    "What is the probability that the customer will spend more than 15 minutes"
   ]
  },
  {
   "cell_type": "code",
   "execution_count": null,
   "metadata": {},
   "outputs": [],
   "source": [
    "# your answer here"
   ]
  },
  {
   "cell_type": "code",
   "execution_count": null,
   "metadata": {},
   "outputs": [],
   "source": []
  }
 ],
 "metadata": {
  "kernelspec": {
   "display_name": "Python 3",
   "language": "python",
   "name": "python3"
  },
  "language_info": {
   "codemirror_mode": {
    "name": "ipython",
    "version": 3
   },
   "file_extension": ".py",
   "mimetype": "text/x-python",
   "name": "python",
   "nbconvert_exporter": "python",
   "pygments_lexer": "ipython3",
   "version": "3.8.8"
  }
 },
 "nbformat": 4,
 "nbformat_minor": 2
}
